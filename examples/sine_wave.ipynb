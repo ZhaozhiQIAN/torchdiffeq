{
 "cells": [
  {
   "cell_type": "code",
   "execution_count": 1,
   "metadata": {},
   "outputs": [],
   "source": [
    "import os\n",
    "import time\n",
    "import numpy as np\n",
    "from collections import namedtuple\n",
    "import importlib\n",
    "\n",
    "import torch\n",
    "import torch.nn as nn\n",
    "import torch.optim as optim\n"
   ]
  },
  {
   "cell_type": "code",
   "execution_count": 2,
   "metadata": {},
   "outputs": [],
   "source": [
    "from torchdiffeq import odeint_adjoint as odeint"
   ]
  },
  {
   "cell_type": "code",
   "execution_count": 3,
   "metadata": {},
   "outputs": [],
   "source": [
    "from torchdiffeq import odeint as dto"
   ]
  },
  {
   "cell_type": "code",
   "execution_count": 4,
   "metadata": {},
   "outputs": [],
   "source": [
    "import ode_models"
   ]
  },
  {
   "cell_type": "code",
   "execution_count": 5,
   "metadata": {},
   "outputs": [
    {
     "data": {
      "text/plain": [
       "<module 'ode_models' from '/alt/applic/user-maint/zq224/WS/torchdiffeq/examples/ode_models.py'>"
      ]
     },
     "execution_count": 5,
     "metadata": {},
     "output_type": "execute_result"
    }
   ],
   "source": [
    "importlib.reload(ode_models)"
   ]
  },
  {
   "cell_type": "code",
   "execution_count": 6,
   "metadata": {},
   "outputs": [],
   "source": [
    "Arg = namedtuple('Arg', ['method', 'data_size', 'batch_time', 'batch_size', \n",
    "                         'niters', 'test_freq', 'viz', 'gpu', 'adjoint'])\n",
    "args = Arg('dopri5', 1000, 20, 1, 2000, 50, False, 1, True)"
   ]
  },
  {
   "cell_type": "code",
   "execution_count": 7,
   "metadata": {},
   "outputs": [],
   "source": [
    "device = torch.device('cuda:' + str(args.gpu) if torch.cuda.is_available() else 'cpu')\n",
    "\n",
    "# initial value (2, 1)\n",
    "true_y0 = torch.tensor([[2.0, 1.0]])\n",
    "true_y01 = torch.tensor([[2.0, .0]])\n",
    "true_y02 = torch.tensor([[2.0, -1.0]])\n",
    "t = torch.linspace(0, 10, args.data_size)\n",
    "\n",
    "eps = 0.01\n",
    "\n",
    "class Lambda(nn.Module):\n",
    "    \n",
    "    def __init__(self, gamma = 1., beta = 0.5):\n",
    "        super(Lambda, self).__init__()\n",
    "        self.gamma = gamma\n",
    "        self.beta = beta\n",
    "\n",
    "    def forward(self, t, y):\n",
    "        y1 = y[:, 0]\n",
    "        y2 = y[:, 1]\n",
    "        dy1_dt = y2\n",
    "        dy2_dt = - self.beta * y2 - self.gamma * y1\n",
    "        \n",
    "        return torch.cat((dy1_dt.reshape(-1, 1), dy2_dt.reshape(-1, 1)), axis=1)\n",
    "\n",
    "# This numerical solution given the true DE.\n",
    "with torch.no_grad():\n",
    "    true_y = odeint(Lambda(), true_y0, t, method='dopri5')\n",
    "    true_y1 = odeint(Lambda(), true_y01, t, method='dopri5')\n",
    "    true_y2 = odeint(Lambda(), true_y02, t, method='dopri5')\n",
    "\n",
    "\n"
   ]
  },
  {
   "cell_type": "code",
   "execution_count": 8,
   "metadata": {},
   "outputs": [
    {
     "data": {
      "text/plain": [
       "device(type='cuda', index=1)"
      ]
     },
     "execution_count": 8,
     "metadata": {},
     "output_type": "execute_result"
    }
   ],
   "source": [
    "device"
   ]
  },
  {
   "cell_type": "code",
   "execution_count": 9,
   "metadata": {},
   "outputs": [],
   "source": [
    "import matplotlib.pyplot as plt\n",
    "\n",
    "with torch.no_grad():\n",
    "    fig = plt.figure(figsize=(10, 4), facecolor='white')\n",
    "    ax_traj = fig.add_subplot(121, frameon=False)\n",
    "    ax_phase = fig.add_subplot(122, frameon=False)\n",
    "\n",
    "\n",
    "    ax_traj.cla()\n",
    "    ax_traj.set_title('Trajectories')\n",
    "    ax_traj.set_xlabel('t')\n",
    "    ax_traj.set_ylabel('x')\n",
    "    ax_traj.plot(t.numpy(), true_y.numpy()[:, :, 0], 'g-')\n",
    "    ax_traj.plot(t.numpy(), true_y2.numpy()[:, :, 0], 'b-')\n",
    "    ax_traj.plot(t.numpy(), true_y1.numpy()[:, :, 0], 'r-')\n",
    "    ax_traj.set_xlim(t.min(), t.max())\n",
    "    ax_traj.set_ylim(-2.5, 2.5)\n",
    "    \n",
    "    ax_phase.cla()\n",
    "    ax_phase.set_title('Phase Portrait')\n",
    "    ax_phase.set_xlabel('x')\n",
    "    ax_phase.set_ylabel('dx/dt')\n",
    "    ax_phase.plot(true_y.numpy()[:, 0, 0], true_y.numpy()[:, 0, 1], 'g-')\n",
    "    ax_phase.plot(true_y2.numpy()[:, 0, 0], true_y2.numpy()[:, 0, 1], 'b-')\n",
    "    ax_phase.plot(true_y1.numpy()[:, 0, 0], true_y1.numpy()[:, 0, 1], 'r-')\n",
    "    ax_phase.axvline(x=2., linestyle='--', color='k')\n",
    "    ax_phase.set_xlim(true_y.numpy().min() - 0.1, true_y.numpy().max() + 0.1)\n",
    "    ax_phase.set_ylim(-2, 2)\n"
   ]
  },
  {
   "cell_type": "code",
   "execution_count": 10,
   "metadata": {},
   "outputs": [],
   "source": [
    "def get_batch(data_size=args.data_size, batch_time=args.batch_time, batch_size=args.batch_size):\n",
    "    s = torch.from_numpy(np.random.choice(np.arange(data_size - batch_time, dtype=np.int64), batch_size, replace=False))\n",
    "    batch_y0 = true_y[s]  # (M, D)\n",
    "    batch_t = t[:batch_time]\n",
    "    batch_y = torch.stack([true_y[s + i] for i in range(batch_time)], dim=0)  # (T, M, D)\n",
    "    return batch_y0, batch_t, batch_y"
   ]
  },
  {
   "cell_type": "code",
   "execution_count": 11,
   "metadata": {},
   "outputs": [],
   "source": [
    "def get_batch_sample(data_size=args.data_size, \n",
    "                     batch_time=args.batch_time, \n",
    "                     batch_size=args.batch_size):\n",
    "    tt = np.random.choice(np.arange(data_size//2, dtype=np.int64), batch_time, replace=False)\n",
    "    tt.sort()\n",
    "    t_ind = torch.from_numpy(tt)\n",
    "    s_ind = torch.from_numpy(np.random.choice(np.arange(data_size//2, dtype=np.int64), batch_size, replace=False))\n",
    "    batch_y0 = true_y[s_ind]  # (M, D)\n",
    "    batch_t = t[t_ind]\n",
    "    batch_y = torch.stack([true_y[s_ind + i] for i in t_ind], dim=0)  # (T, M, D)\n",
    "    return batch_y0, batch_t, batch_y"
   ]
  },
  {
   "cell_type": "code",
   "execution_count": 12,
   "metadata": {},
   "outputs": [
    {
     "data": {
      "text/plain": [
       "array([1, 2, 3, 4])"
      ]
     },
     "execution_count": 12,
     "metadata": {},
     "output_type": "execute_result"
    }
   ],
   "source": [
    "a = np.array([3,4,2,1])\n",
    "a.sort()\n",
    "a"
   ]
  },
  {
   "cell_type": "code",
   "execution_count": 13,
   "metadata": {},
   "outputs": [],
   "source": [
    "batch_y0, batch_t, batch_y = get_batch()"
   ]
  },
  {
   "cell_type": "code",
   "execution_count": 14,
   "metadata": {},
   "outputs": [],
   "source": [
    "batch_y01, batch_t1, batch_y1 = get_batch_sample()"
   ]
  },
  {
   "cell_type": "code",
   "execution_count": 15,
   "metadata": {},
   "outputs": [
    {
     "data": {
      "text/plain": [
       "torch.Size([1, 1, 2])"
      ]
     },
     "execution_count": 15,
     "metadata": {},
     "output_type": "execute_result"
    }
   ],
   "source": [
    "batch_y0.shape\n"
   ]
  },
  {
   "cell_type": "code",
   "execution_count": 16,
   "metadata": {},
   "outputs": [
    {
     "data": {
      "text/plain": [
       "torch.Size([20])"
      ]
     },
     "execution_count": 16,
     "metadata": {},
     "output_type": "execute_result"
    }
   ],
   "source": [
    "batch_t.shape"
   ]
  },
  {
   "cell_type": "code",
   "execution_count": 17,
   "metadata": {},
   "outputs": [],
   "source": [
    "\n",
    "\n",
    "def makedirs(dirname):\n",
    "    if not os.path.exists(dirname):\n",
    "        os.makedirs(dirname)\n"
   ]
  },
  {
   "cell_type": "code",
   "execution_count": 18,
   "metadata": {},
   "outputs": [],
   "source": [
    "class RunningAverageMeter(object):\n",
    "    \"\"\"Computes and stores the average and current value\"\"\"\n",
    "\n",
    "    def __init__(self, momentum=0.99):\n",
    "        self.momentum = momentum\n",
    "        self.reset()\n",
    "\n",
    "    def reset(self):\n",
    "        self.val = None\n",
    "        self.avg = 0\n",
    "\n",
    "    def update(self, val):\n",
    "        if self.val is None:\n",
    "            self.avg = val\n",
    "        else:\n",
    "            self.avg = self.avg * self.momentum + val * (1 - self.momentum)\n",
    "        self.val = val\n"
   ]
  },
  {
   "cell_type": "markdown",
   "metadata": {},
   "source": [
    "# Prediction setting\n",
    "### Known ODE, unknown initial condition"
   ]
  },
  {
   "cell_type": "code",
   "execution_count": 18,
   "metadata": {},
   "outputs": [],
   "source": [
    "class KnownOdeUnknownInit(nn.Module):\n",
    "    \n",
    "    def __init__(self, batch_size, dim=2, gamma = 1., beta = 0.5):\n",
    "        super(KnownOdeUnknownInit, self).__init__()\n",
    "        self.gamma = gamma\n",
    "        self.beta = beta\n",
    "        self.dim = dim\n",
    "        self.batch_size = batch_size\n",
    "        # imitate the size of batch_y0\n",
    "        self.init_cond = torch.nn.Parameter(torch.zeros(self.batch_size, 1, self.dim))\n",
    "\n",
    "    def forward(self, t, y):\n",
    "        y = y + self.init_cond\n",
    "        y1 = y[..., 0]\n",
    "        y2 = y[..., 1]\n",
    "        dy1_dt = y2\n",
    "        dy2_dt = - self.beta * y2 - self.gamma * y1\n",
    "        \n",
    "        return torch.stack((dy1_dt, dy2_dt), axis = len(dy1_dt.shape))\n"
   ]
  },
  {
   "cell_type": "code",
   "execution_count": 19,
   "metadata": {},
   "outputs": [],
   "source": [
    "func = KnownOdeUnknownInit(batch_size=args.batch_size)\n",
    "optimizer = optim.Adam(func.parameters(), lr=1e-3)\n",
    "\n",
    "np.random.seed(0)\n",
    "batch_y0, batch_t, batch_y =  get_batch_sample()\n",
    "batch_y0_init = torch.zeros_like(batch_y0)"
   ]
  },
  {
   "cell_type": "code",
   "execution_count": 20,
   "metadata": {},
   "outputs": [],
   "source": [
    "with torch.no_grad():\n",
    "    func.init_cond[:, :, 0] = batch_y0[:, :, 0]"
   ]
  },
  {
   "cell_type": "code",
   "execution_count": 24,
   "metadata": {},
   "outputs": [
    {
     "data": {
      "text/plain": [
       "torch.Size([20, 1, 1, 2])"
      ]
     },
     "execution_count": 24,
     "metadata": {},
     "output_type": "execute_result"
    }
   ],
   "source": [
    "pred_y_final.shape"
   ]
  },
  {
   "cell_type": "code",
   "execution_count": 21,
   "metadata": {},
   "outputs": [
    {
     "name": "stdout",
     "output_type": "stream",
     "text": [
      "Iter 0050 | Total Loss 0.280749\n",
      "Iter 0100 | Total Loss 0.255661\n",
      "Iter 0150 | Total Loss 0.231388\n",
      "Iter 0200 | Total Loss 0.212332\n",
      "Iter 0250 | Total Loss 0.193343\n",
      "Iter 0300 | Total Loss 0.174253\n",
      "Iter 0350 | Total Loss 0.156360\n",
      "Iter 0400 | Total Loss 0.139216\n",
      "Iter 0450 | Total Loss 0.122444\n",
      "Iter 0500 | Total Loss 0.105608\n",
      "Iter 0550 | Total Loss 0.088711\n",
      "Iter 0600 | Total Loss 0.071764\n",
      "Iter 0650 | Total Loss 0.054780\n",
      "Iter 0700 | Total Loss 0.037755\n",
      "Iter 0750 | Total Loss 0.020705\n",
      "Iter 0800 | Total Loss 0.003637\n",
      "Iter 0850 | Total Loss 0.000131\n",
      "Iter 0900 | Total Loss 0.000114\n",
      "Iter 0950 | Total Loss 0.000101\n"
     ]
    },
    {
     "ename": "KeyboardInterrupt",
     "evalue": "",
     "output_type": "error",
     "traceback": [
      "\u001b[0;31m---------------------------------------------------------------------------\u001b[0m",
      "\u001b[0;31mKeyboardInterrupt\u001b[0m                         Traceback (most recent call last)",
      "\u001b[0;32m<ipython-input-21-39ae3af22f91>\u001b[0m in \u001b[0;36m<module>\u001b[0;34m\u001b[0m\n\u001b[1;32m      8\u001b[0m     \u001b[0mpred_y_final\u001b[0m \u001b[0;34m=\u001b[0m \u001b[0mpred_y\u001b[0m \u001b[0;34m+\u001b[0m \u001b[0mfunc\u001b[0m\u001b[0;34m.\u001b[0m\u001b[0minit_cond\u001b[0m\u001b[0;34m\u001b[0m\u001b[0;34m\u001b[0m\u001b[0m\n\u001b[1;32m      9\u001b[0m     \u001b[0mloss\u001b[0m \u001b[0;34m=\u001b[0m \u001b[0mtorch\u001b[0m\u001b[0;34m.\u001b[0m\u001b[0mmean\u001b[0m\u001b[0;34m(\u001b[0m\u001b[0mtorch\u001b[0m\u001b[0;34m.\u001b[0m\u001b[0mabs\u001b[0m\u001b[0;34m(\u001b[0m\u001b[0mpred_y_final\u001b[0m\u001b[0;34m[\u001b[0m\u001b[0;34m...\u001b[0m\u001b[0;34m,\u001b[0m \u001b[0;36m0\u001b[0m\u001b[0;34m]\u001b[0m \u001b[0;34m-\u001b[0m \u001b[0mbatch_y\u001b[0m\u001b[0;34m[\u001b[0m\u001b[0;34m...\u001b[0m\u001b[0;34m,\u001b[0m \u001b[0;36m0\u001b[0m\u001b[0;34m]\u001b[0m\u001b[0;34m)\u001b[0m\u001b[0;34m)\u001b[0m\u001b[0;34m\u001b[0m\u001b[0;34m\u001b[0m\u001b[0m\n\u001b[0;32m---> 10\u001b[0;31m     \u001b[0mloss\u001b[0m\u001b[0;34m.\u001b[0m\u001b[0mbackward\u001b[0m\u001b[0;34m(\u001b[0m\u001b[0;34m)\u001b[0m\u001b[0;34m\u001b[0m\u001b[0;34m\u001b[0m\u001b[0m\n\u001b[0m\u001b[1;32m     11\u001b[0m     \u001b[0moptimizer\u001b[0m\u001b[0;34m.\u001b[0m\u001b[0mstep\u001b[0m\u001b[0;34m(\u001b[0m\u001b[0;34m)\u001b[0m\u001b[0;34m\u001b[0m\u001b[0;34m\u001b[0m\u001b[0m\n\u001b[1;32m     12\u001b[0m \u001b[0;34m\u001b[0m\u001b[0m\n",
      "\u001b[0;32m/alt/applic/user-maint/zq224/anaconda3/lib/python3.7/site-packages/torch/tensor.py\u001b[0m in \u001b[0;36mbackward\u001b[0;34m(self, gradient, retain_graph, create_graph)\u001b[0m\n\u001b[1;32m    148\u001b[0m                 \u001b[0mproducts\u001b[0m\u001b[0;34m.\u001b[0m \u001b[0mDefaults\u001b[0m \u001b[0mto\u001b[0m\u001b[0;31m \u001b[0m\u001b[0;31m`\u001b[0m\u001b[0;31m`\u001b[0m\u001b[0;32mFalse\u001b[0m\u001b[0;31m`\u001b[0m\u001b[0;31m`\u001b[0m\u001b[0;34m.\u001b[0m\u001b[0;34m\u001b[0m\u001b[0;34m\u001b[0m\u001b[0m\n\u001b[1;32m    149\u001b[0m         \"\"\"\n\u001b[0;32m--> 150\u001b[0;31m         \u001b[0mtorch\u001b[0m\u001b[0;34m.\u001b[0m\u001b[0mautograd\u001b[0m\u001b[0;34m.\u001b[0m\u001b[0mbackward\u001b[0m\u001b[0;34m(\u001b[0m\u001b[0mself\u001b[0m\u001b[0;34m,\u001b[0m \u001b[0mgradient\u001b[0m\u001b[0;34m,\u001b[0m \u001b[0mretain_graph\u001b[0m\u001b[0;34m,\u001b[0m \u001b[0mcreate_graph\u001b[0m\u001b[0;34m)\u001b[0m\u001b[0;34m\u001b[0m\u001b[0;34m\u001b[0m\u001b[0m\n\u001b[0m\u001b[1;32m    151\u001b[0m \u001b[0;34m\u001b[0m\u001b[0m\n\u001b[1;32m    152\u001b[0m     \u001b[0;32mdef\u001b[0m \u001b[0mregister_hook\u001b[0m\u001b[0;34m(\u001b[0m\u001b[0mself\u001b[0m\u001b[0;34m,\u001b[0m \u001b[0mhook\u001b[0m\u001b[0;34m)\u001b[0m\u001b[0;34m:\u001b[0m\u001b[0;34m\u001b[0m\u001b[0;34m\u001b[0m\u001b[0m\n",
      "\u001b[0;32m/alt/applic/user-maint/zq224/anaconda3/lib/python3.7/site-packages/torch/autograd/__init__.py\u001b[0m in \u001b[0;36mbackward\u001b[0;34m(tensors, grad_tensors, retain_graph, create_graph, grad_variables)\u001b[0m\n\u001b[1;32m     97\u001b[0m     Variable._execution_engine.run_backward(\n\u001b[1;32m     98\u001b[0m         \u001b[0mtensors\u001b[0m\u001b[0;34m,\u001b[0m \u001b[0mgrad_tensors\u001b[0m\u001b[0;34m,\u001b[0m \u001b[0mretain_graph\u001b[0m\u001b[0;34m,\u001b[0m \u001b[0mcreate_graph\u001b[0m\u001b[0;34m,\u001b[0m\u001b[0;34m\u001b[0m\u001b[0;34m\u001b[0m\u001b[0m\n\u001b[0;32m---> 99\u001b[0;31m         allow_unreachable=True)  # allow_unreachable flag\n\u001b[0m\u001b[1;32m    100\u001b[0m \u001b[0;34m\u001b[0m\u001b[0m\n\u001b[1;32m    101\u001b[0m \u001b[0;34m\u001b[0m\u001b[0m\n",
      "\u001b[0;31mKeyboardInterrupt\u001b[0m: "
     ]
    },
    {
     "data": {
      "text/plain": [
       "<Figure size 288x288 with 0 Axes>"
      ]
     },
     "metadata": {},
     "output_type": "display_data"
    },
    {
     "data": {
      "text/plain": [
       "<Figure size 288x288 with 0 Axes>"
      ]
     },
     "metadata": {},
     "output_type": "display_data"
    },
    {
     "data": {
      "text/plain": [
       "<Figure size 288x288 with 0 Axes>"
      ]
     },
     "metadata": {},
     "output_type": "display_data"
    },
    {
     "data": {
      "text/plain": [
       "<Figure size 288x288 with 0 Axes>"
      ]
     },
     "metadata": {},
     "output_type": "display_data"
    },
    {
     "data": {
      "text/plain": [
       "<Figure size 288x288 with 0 Axes>"
      ]
     },
     "metadata": {},
     "output_type": "display_data"
    },
    {
     "data": {
      "text/plain": [
       "<Figure size 288x288 with 0 Axes>"
      ]
     },
     "metadata": {},
     "output_type": "display_data"
    },
    {
     "data": {
      "text/plain": [
       "<Figure size 288x288 with 0 Axes>"
      ]
     },
     "metadata": {},
     "output_type": "display_data"
    },
    {
     "data": {
      "text/plain": [
       "<Figure size 288x288 with 0 Axes>"
      ]
     },
     "metadata": {},
     "output_type": "display_data"
    },
    {
     "data": {
      "text/plain": [
       "<Figure size 288x288 with 0 Axes>"
      ]
     },
     "metadata": {},
     "output_type": "display_data"
    },
    {
     "data": {
      "text/plain": [
       "<Figure size 288x288 with 0 Axes>"
      ]
     },
     "metadata": {},
     "output_type": "display_data"
    },
    {
     "data": {
      "text/plain": [
       "<Figure size 288x288 with 0 Axes>"
      ]
     },
     "metadata": {},
     "output_type": "display_data"
    },
    {
     "data": {
      "text/plain": [
       "<Figure size 288x288 with 0 Axes>"
      ]
     },
     "metadata": {},
     "output_type": "display_data"
    },
    {
     "data": {
      "text/plain": [
       "<Figure size 288x288 with 0 Axes>"
      ]
     },
     "metadata": {},
     "output_type": "display_data"
    },
    {
     "data": {
      "text/plain": [
       "<Figure size 288x288 with 0 Axes>"
      ]
     },
     "metadata": {},
     "output_type": "display_data"
    },
    {
     "data": {
      "text/plain": [
       "<Figure size 288x288 with 0 Axes>"
      ]
     },
     "metadata": {},
     "output_type": "display_data"
    },
    {
     "data": {
      "text/plain": [
       "<Figure size 288x288 with 0 Axes>"
      ]
     },
     "metadata": {},
     "output_type": "display_data"
    },
    {
     "data": {
      "text/plain": [
       "<Figure size 288x288 with 0 Axes>"
      ]
     },
     "metadata": {},
     "output_type": "display_data"
    },
    {
     "data": {
      "text/plain": [
       "<Figure size 288x288 with 0 Axes>"
      ]
     },
     "metadata": {},
     "output_type": "display_data"
    },
    {
     "data": {
      "text/plain": [
       "<Figure size 288x288 with 0 Axes>"
      ]
     },
     "metadata": {},
     "output_type": "display_data"
    }
   ],
   "source": [
    "ii = 0\n",
    "plot_dir_tmp = 'png1/seq-{}'\n",
    "\n",
    "for itr in range(1, 1500):\n",
    "    optimizer.zero_grad()\n",
    "    \n",
    "    pred_y = odeint(func, batch_y0_init, batch_t)\n",
    "    pred_y_final = pred_y + func.init_cond\n",
    "    loss = torch.mean(torch.abs(pred_y_final[..., 0] - batch_y[..., 0]))\n",
    "    loss.backward()\n",
    "    optimizer.step()\n",
    "\n",
    "    if itr % args.test_freq == 0:\n",
    "        with torch.no_grad():\n",
    "            print('Iter {:04d} | Total Loss {:.6f}'.format(itr, loss.item()))\n",
    "            ii += 1\n",
    "            \n",
    "            for i_samp in range(args.batch_size):\n",
    "                plot_dir = plot_dir_tmp.format(str(i_samp))\n",
    "                makedirs(plot_dir)\n",
    "#                 i_samp = 3\n",
    "                fig = plt.figure(figsize=(4, 4), facecolor='white')\n",
    "                ax_traj = fig.add_subplot(111, frameon=False)\n",
    "                ax_traj.cla()\n",
    "                ax_traj.set_title('Trajectories')\n",
    "                ax_traj.set_xlabel('t')\n",
    "                ax_traj.set_ylabel('x')\n",
    "                ax_traj.plot(batch_t.numpy(), pred_y_final.detach().numpy()[:, i_samp, 0, 0], 'b--')\n",
    "                ax_traj.plot(batch_t.numpy(), batch_y.numpy()[:, i_samp, 0, 0], 'ro')\n",
    "                ax_traj.set_xlim(batch_t.numpy().min(), batch_t.numpy().max())\n",
    "                ax_traj.set_ylim(-2.5, 2.5)\n",
    "\n",
    "                plt.savefig('{}/{:03d}'.format(plot_dir, itr//50))\n",
    "\n",
    "                fig.clf()\n",
    "\n",
    "    end = time.time()\n",
    "\n"
   ]
  },
  {
   "cell_type": "code",
   "execution_count": 220,
   "metadata": {},
   "outputs": [
    {
     "data": {
      "text/plain": [
       "'png1'"
      ]
     },
     "execution_count": 220,
     "metadata": {},
     "output_type": "execute_result"
    }
   ],
   "source": [
    "plot_dir"
   ]
  },
  {
   "cell_type": "code",
   "execution_count": 234,
   "metadata": {},
   "outputs": [
    {
     "data": {
      "image/png": "[encoded data removed]",
      "text/plain": [
       "<Figure size 288x288 with 1 Axes>"
      ]
     },
     "metadata": {},
     "output_type": "display_data"
    }
   ],
   "source": [
    "i_samp = 3\n",
    "\n",
    "with torch.no_grad():\n",
    "    fig = plt.figure(figsize=(4, 4), facecolor='white')\n",
    "    ax_traj = fig.add_subplot(111, frameon=False)\n",
    "\n",
    "\n",
    "    ax_traj.cla()\n",
    "    ax_traj.set_title('Trajectories')\n",
    "    ax_traj.set_xlabel('t')\n",
    "    ax_traj.set_ylabel('x')\n",
    "    ax_traj.plot(batch_t.numpy(), pred_y_final.detach().numpy()[:, i_samp, 0, 0], 'b--')\n",
    "    ax_traj.plot(batch_t.numpy(), batch_y.numpy()[:, i_samp, 0, 0], 'ro')\n",
    "    ax_traj.set_xlim(batch_t.numpy().min(), batch_t.numpy().max())\n",
    "    ax_traj.set_ylim(-2.5, 2.5)\n"
   ]
  },
  {
   "cell_type": "code",
   "execution_count": 216,
   "metadata": {},
   "outputs": [
    {
     "data": {
      "text/plain": [
       "tensor(7.2840, grad_fn=<SumBackward0>)"
      ]
     },
     "execution_count": 216,
     "metadata": {},
     "output_type": "execute_result"
    }
   ],
   "source": [
    "torch.sum(torch.abs(func.init_cond - batch_y0))\n"
   ]
  },
  {
   "cell_type": "markdown",
   "metadata": {},
   "source": [
    "# Training setting\n",
    "### Unknown ODE, unknown initial condition"
   ]
  },
  {
   "cell_type": "code",
   "execution_count": 19,
   "metadata": {},
   "outputs": [],
   "source": [
    "class UnknownOdeUnknownInit(nn.Module):\n",
    "    \n",
    "    def __init__(self, batch_size, dim=2, gamma = 1., beta = 0.5):\n",
    "        super(UnknownOdeUnknownInit, self).__init__()\n",
    "        self.gamma = torch.nn.Parameter(torch.tensor(gamma, dtype=torch.float32))\n",
    "        self.beta = torch.nn.Parameter(torch.tensor(beta, dtype=torch.float32))\n",
    "        self.dim = dim\n",
    "        self.batch_size = batch_size\n",
    "        # imitate the size of batch_y0\n",
    "        self.init_cond = torch.nn.Parameter(torch.zeros(self.batch_size, 1, self.dim))\n",
    "\n",
    "    def forward(self, t, y):\n",
    "        y = y + self.init_cond\n",
    "        y1 = y[..., 0]\n",
    "        y2 = y[..., 1]\n",
    "        dy1_dt = y2\n",
    "        dy2_dt = - self.beta * y2 - self.gamma * y1\n",
    "        \n",
    "        return torch.stack((dy1_dt, dy2_dt), axis = len(dy1_dt.shape))\n"
   ]
  },
  {
   "cell_type": "code",
   "execution_count": 20,
   "metadata": {},
   "outputs": [],
   "source": [
    "np.random.seed(0)\n",
    "batch_size = 300\n",
    "batch_time = 20\n",
    "batch_y0, batch_t, batch_y =  get_batch(batch_size=batch_size, batch_time=batch_time)\n",
    "batch_y0_init = torch.zeros_like(batch_y0)\n",
    "\n",
    "gamma_init = np.random.uniform(size=1)\n",
    "beta_init = np.random.uniform(size=1)\n",
    "\n",
    "func2 = UnknownOdeUnknownInit(batch_size=batch_size, gamma=gamma_init, beta=beta_init)\n",
    "optimizer = optim.Adam(func2.parameters(), lr=1e-3)\n"
   ]
  },
  {
   "cell_type": "code",
   "execution_count": 21,
   "metadata": {},
   "outputs": [],
   "source": [
    "with torch.no_grad():\n",
    "    func2.init_cond[:, :, 0] = batch_y0[:, :, 0]"
   ]
  },
  {
   "cell_type": "code",
   "execution_count": 22,
   "metadata": {},
   "outputs": [
    {
     "name": "stdout",
     "output_type": "stream",
     "text": [
      "torch.Size([300, 1, 2])\n",
      "torch.Size([20, 300, 1, 2])\n",
      "torch.Size([20])\n",
      "20\n"
     ]
    }
   ],
   "source": [
    "print(batch_y0_init.shape)\n",
    "print(batch_y.shape)\n",
    "print(batch_t.shape)\n",
    "print(args.batch_time)"
   ]
  },
  {
   "cell_type": "code",
   "execution_count": 31,
   "metadata": {},
   "outputs": [
    {
     "name": "stdout",
     "output_type": "stream",
     "text": [
      "torch.Size([300, 1, 2])\n",
      "torch.Size([20])\n",
      "torch.Size([20, 5])\n"
     ]
    }
   ],
   "source": [
    "print(batch_y0_init.shape)\n",
    "print(batch_t.shape)\n",
    "batch_t_ext = batch_t.reshape((-1, 1)).repeat(1, 5)\n",
    "print(batch_t_ext.shape)\n",
    "# batch_t_ext"
   ]
  },
  {
   "cell_type": "code",
   "execution_count": 23,
   "metadata": {},
   "outputs": [
    {
     "name": "stdout",
     "output_type": "stream",
     "text": [
      "Iter 0050 | Total Loss 0.027445\n",
      "Iter 0100 | Total Loss 0.022281\n",
      "Iter 0150 | Total Loss 0.019804\n",
      "Iter 0200 | Total Loss 0.018011\n",
      "Iter 0250 | Total Loss 0.016441\n",
      "Iter 0300 | Total Loss 0.014981\n",
      "Iter 0350 | Total Loss 0.013658\n",
      "Iter 0400 | Total Loss 0.012502\n",
      "Iter 0450 | Total Loss 0.011352\n",
      "Iter 0500 | Total Loss 0.010229\n",
      "Iter 0550 | Total Loss 0.009164\n",
      "Iter 0600 | Total Loss 0.008178\n",
      "Iter 0650 | Total Loss 0.007274\n",
      "Iter 0700 | Total Loss 0.006470\n",
      "Iter 0750 | Total Loss 0.005831\n",
      "Iter 0800 | Total Loss 0.005327\n",
      "Iter 0850 | Total Loss 0.004843\n",
      "Iter 0900 | Total Loss 0.004366\n",
      "Iter 0950 | Total Loss 0.003906\n",
      "Iter 1000 | Total Loss 0.003458\n",
      "Iter 1050 | Total Loss 0.003036\n",
      "Iter 1100 | Total Loss 0.002650\n",
      "Iter 1150 | Total Loss 0.002301\n",
      "Iter 1200 | Total Loss 0.001991\n",
      "Iter 1250 | Total Loss 0.001719\n",
      "Iter 1300 | Total Loss 0.001468\n",
      "Iter 1350 | Total Loss 0.001242\n",
      "Iter 1400 | Total Loss 0.001035\n",
      "Iter 1450 | Total Loss 0.000853\n",
      "Iter 1500 | Total Loss 0.000719\n",
      "Iter 1550 | Total Loss 0.000639\n",
      "Iter 1600 | Total Loss 0.000592\n",
      "Iter 1650 | Total Loss 0.000551\n",
      "Iter 1700 | Total Loss 0.000513\n",
      "Iter 1750 | Total Loss 0.000476\n",
      "Iter 1800 | Total Loss 0.000437\n",
      "Iter 1850 | Total Loss 0.000407\n",
      "Iter 1900 | Total Loss 0.000369\n",
      "Iter 1950 | Total Loss 0.000341\n",
      "Iter 2000 | Total Loss 0.000305\n"
     ]
    }
   ],
   "source": [
    "ii = 0\n",
    "\n",
    "step_size = batch_t[1]/2\n",
    "batch_t_ext = batch_t.reshape((-1, 1)).repeat(1, 5)\n",
    "\n",
    "start = time.time()\n",
    "for itr in range(1, args.niters + 1):\n",
    "    optimizer.zero_grad()\n",
    "    \n",
    "    pred_y = dto(func2, batch_y0_init, batch_t, method='euler', options={'step_size': step_size})\n",
    "#     pred_y = odeint(func2, batch_y0_init, batch_t)\n",
    "    pred_y_final = pred_y + func2.init_cond\n",
    "    loss = torch.mean(torch.abs(pred_y_final[..., 0] - batch_y[..., 0]))\n",
    "    loss.backward()\n",
    "    optimizer.step()\n",
    "\n",
    "    if itr % args.test_freq == 0:\n",
    "        with torch.no_grad():\n",
    "            print('Iter {:04d} | Total Loss {:.6f}'.format(itr, loss.item()))\n",
    "            ii += 1\n",
    "\n",
    "    end = time.time()\n"
   ]
  },
  {
   "cell_type": "code",
   "execution_count": 24,
   "metadata": {},
   "outputs": [
    {
     "data": {
      "text/plain": [
       "13.922156810760498"
      ]
     },
     "execution_count": 24,
     "metadata": {},
     "output_type": "execute_result"
    }
   ],
   "source": [
    "end - start"
   ]
  },
  {
   "cell_type": "code",
   "execution_count": 28,
   "metadata": {},
   "outputs": [
    {
     "data": {
      "text/plain": [
       "[1, 1, 1]"
      ]
     },
     "execution_count": 28,
     "metadata": {},
     "output_type": "execute_result"
    }
   ],
   "source": [
    "[1] * 3"
   ]
  },
  {
   "cell_type": "code",
   "execution_count": 113,
   "metadata": {},
   "outputs": [],
   "source": [
    "t7o = end - start"
   ]
  },
  {
   "cell_type": "code",
   "execution_count": 105,
   "metadata": {},
   "outputs": [
    {
     "name": "stdout",
     "output_type": "stream",
     "text": [
      "587.4868896007538\n",
      "295.0458381175995\n",
      "285.77148842811584\n",
      "283.1807482242584\n"
     ]
    }
   ],
   "source": [
    "print(t4o) # euler 100 step\n",
    "print(t1o) # euler 5 step\n",
    "print(t2o) # euler 2 step\n",
    "print(t3o) # euler 1 step\n"
   ]
  },
  {
   "cell_type": "code",
   "execution_count": 106,
   "metadata": {},
   "outputs": [
    {
     "name": "stdout",
     "output_type": "stream",
     "text": [
      "295.0458381175995\n",
      "310.64204382896423\n",
      "349.37178564071655\n"
     ]
    }
   ],
   "source": [
    "print(t1o) # euler 5 step\n",
    "print(t5o) # mid point 5 step\n",
    "print(t6o) # rk4 5 step"
   ]
  },
  {
   "cell_type": "code",
   "execution_count": 114,
   "metadata": {},
   "outputs": [
    {
     "name": "stdout",
     "output_type": "stream",
     "text": [
      "295.0458381175995\n",
      "1564.178207874298\n",
      "587.4868896007538\n"
     ]
    }
   ],
   "source": [
    "print(t1o) # euler 20 time step; 5 eval per time step\n",
    "print(t7o) # euler 100 time step; 5 eval per time step\n",
    "print(t4o) # euler 20 time step; 100 eval per time step\n",
    "\n"
   ]
  },
  {
   "cell_type": "code",
   "execution_count": 87,
   "metadata": {},
   "outputs": [
    {
     "data": {
      "text/plain": [
       "[258.44522500038147, 271.58105206489563, 277.9707021713257]"
      ]
     },
     "execution_count": 87,
     "metadata": {},
     "output_type": "execute_result"
    }
   ],
   "source": [
    "# batch size [1, 100, 300]\n",
    "[t1, t2, t3]"
   ]
  },
  {
   "cell_type": "code",
   "execution_count": 85,
   "metadata": {},
   "outputs": [
    {
     "data": {
      "text/plain": [
       "Parameter containing:\n",
       "tensor([0.9602], requires_grad=True)"
      ]
     },
     "execution_count": 85,
     "metadata": {},
     "output_type": "execute_result"
    }
   ],
   "source": [
    "func2.gamma"
   ]
  },
  {
   "cell_type": "code",
   "execution_count": 86,
   "metadata": {},
   "outputs": [
    {
     "data": {
      "text/plain": [
       "Parameter containing:\n",
       "tensor([0.0340], requires_grad=True)"
      ]
     },
     "execution_count": 86,
     "metadata": {},
     "output_type": "execute_result"
    }
   ],
   "source": [
    "func2.beta"
   ]
  },
  {
   "cell_type": "code",
   "execution_count": null,
   "metadata": {},
   "outputs": [],
   "source": []
  },
  {
   "cell_type": "code",
   "execution_count": null,
   "metadata": {},
   "outputs": [],
   "source": []
  },
  {
   "cell_type": "code",
   "execution_count": 124,
   "metadata": {},
   "outputs": [
    {
     "data": {
      "text/plain": [
       "<module 'ode_models' from '/alt/applic/user-maint/zq224/WS/torchdiffeq/examples/ode_models.py'>"
      ]
     },
     "execution_count": 124,
     "metadata": {},
     "output_type": "execute_result"
    }
   ],
   "source": [
    "importlib.reload(ode_models)"
   ]
  },
  {
   "cell_type": "code",
   "execution_count": 159,
   "metadata": {},
   "outputs": [],
   "source": [
    "D_TYPE = torch.float32\n",
    "\n",
    "np.random.seed(0)\n",
    "batch_size = 300\n",
    "batch_time = 100\n",
    "batch_y0, batch_t, batch_y =  get_batch(batch_size=batch_size, batch_time=batch_time)\n",
    "\n",
    "dat_dict = dict()\n",
    "for i in range(batch_size):\n",
    "    dat_dict[str(i)] = dict(t=batch_t, x=batch_y[:, i:i+1, :, 0:1])\n",
    "    \n",
    "\n",
    "batch_y0_init = torch.zeros_like(batch_y0)\n",
    "\n",
    "\n",
    "\n",
    "func3 = ode_models.HigherOrderOde(dat_dict,batch_size=batch_size, dim=1, order=2, hidden_size=50)\n",
    "\n",
    "optimizer = optim.Adam(func3.parameters(), lr=1e-3)\n"
   ]
  },
  {
   "cell_type": "code",
   "execution_count": 132,
   "metadata": {},
   "outputs": [
    {
     "name": "stdout",
     "output_type": "stream",
     "text": [
      "Processed: 10\n",
      "Processed: 20\n",
      "Processed: 30\n",
      "Processed: 40\n",
      "Processed: 50\n",
      "Processed: 60\n",
      "Processed: 70\n",
      "Processed: 80\n",
      "Processed: 90\n",
      "Processed: 100\n"
     ]
    }
   ],
   "source": [
    "n_processed = 0\n",
    "s = time.time()\n",
    "for eid, v in dat_dict.items():\n",
    "    t = v['t']\n",
    "    x = v['x']\n",
    "\n",
    "    optimizer.zero_grad()\n",
    "    \n",
    "    \n",
    "    func3.set_init_cond([eid])\n",
    "    init_zeros = torch.zeros_like(func3.init_cond)\n",
    "    \n",
    "    pred_y = odeint(func3, init_zeros, t)\n",
    "    pred_y_final = pred_y  + func3.init_cond\n",
    "    loss = torch.mean(torch.abs(pred_y_final[..., :func3.dim] - x))\n",
    "    loss.backward()\n",
    "    optimizer.step()\n",
    "    \n",
    "    n_processed += 1\n",
    "    \n",
    "    if n_processed % 10 == 0:\n",
    "        print('Processed:', n_processed)\n",
    "    if n_processed > 100:\n",
    "        break\n",
    "e = time.time()"
   ]
  },
  {
   "cell_type": "code",
   "execution_count": 162,
   "metadata": {},
   "outputs": [
    {
     "name": "stdout",
     "output_type": "stream",
     "text": [
      "Processed: 10\n",
      "Processed: 20\n",
      "Processed: 30\n",
      "Processed: 40\n",
      "Processed: 50\n",
      "Processed: 60\n",
      "Processed: 70\n",
      "Processed: 80\n",
      "Processed: 90\n",
      "Processed: 100\n"
     ]
    }
   ],
   "source": [
    "n_processed = 0\n",
    "\n",
    "\n",
    "start = time.time()\n",
    "for itr in range(1, 100 + 1):\n",
    "    optimizer.zero_grad()\n",
    "    \n",
    "    func3.set_init_cond(list(dat_dict.keys()))\n",
    "    init_zeros = torch.zeros_like(func3.init_cond)\n",
    "    \n",
    "    pred_y = odeint(func3, init_zeros, batch_t)\n",
    "    pred_y_final = pred_y + func3.init_cond\n",
    "    loss = torch.mean(torch.abs(pred_y_final[..., 0] - batch_y[..., 0]))\n",
    "    loss.backward()\n",
    "    optimizer.step()\n",
    "\n",
    "    n_processed += 1\n",
    "    if n_processed % 10 == 0:\n",
    "        print('Processed:', n_processed)\n",
    "    if n_processed > 100:\n",
    "        break\n",
    "    end = time.time()\n"
   ]
  },
  {
   "cell_type": "code",
   "execution_count": 163,
   "metadata": {},
   "outputs": [
    {
     "data": {
      "text/plain": [
       "tensor(0.0009, grad_fn=<MeanBackward0>)"
      ]
     },
     "execution_count": 163,
     "metadata": {},
     "output_type": "execute_result"
    }
   ],
   "source": [
    "loss"
   ]
  },
  {
   "cell_type": "code",
   "execution_count": 164,
   "metadata": {},
   "outputs": [
    {
     "data": {
      "text/plain": [
       "tensor(0.0039, grad_fn=<MeanBackward0>)"
      ]
     },
     "execution_count": 164,
     "metadata": {},
     "output_type": "execute_result"
    }
   ],
   "source": [
    "torch.mean(torch.abs(pred_y_final - batch_y))"
   ]
  },
  {
   "cell_type": "code",
   "execution_count": 143,
   "metadata": {},
   "outputs": [
    {
     "data": {
      "text/plain": [
       "87.54762482643127"
      ]
     },
     "execution_count": 143,
     "metadata": {},
     "output_type": "execute_result"
    }
   ],
   "source": [
    "end - start"
   ]
  },
  {
   "cell_type": "code",
   "execution_count": 167,
   "metadata": {},
   "outputs": [
    {
     "data": {
      "text/plain": [
       "tensor(-1.5680, grad_fn=<MinBackward1>)"
      ]
     },
     "execution_count": 167,
     "metadata": {},
     "output_type": "execute_result"
    }
   ],
   "source": [
    "pred_y_final.min()"
   ]
  },
  {
   "cell_type": "code",
   "execution_count": 168,
   "metadata": {},
   "outputs": [
    {
     "data": {
      "text/plain": [
       "tensor(2.2210, grad_fn=<MaxBackward1>)"
      ]
     },
     "execution_count": 168,
     "metadata": {},
     "output_type": "execute_result"
    }
   ],
   "source": [
    "pred_y_final.max().to(pred_y_final)"
   ]
  },
  {
   "cell_type": "code",
   "execution_count": 138,
   "metadata": {},
   "outputs": [
    {
     "data": {
      "text/plain": [
       "torch.Size([100, 300, 1, 2])"
      ]
     },
     "execution_count": 138,
     "metadata": {},
     "output_type": "execute_result"
    }
   ],
   "source": [
    "batch_y.shape"
   ]
  },
  {
   "cell_type": "code",
   "execution_count": 140,
   "metadata": {},
   "outputs": [
    {
     "data": {
      "text/plain": [
       "1"
      ]
     },
     "execution_count": 140,
     "metadata": {},
     "output_type": "execute_result"
    }
   ],
   "source": [
    "func3.dim"
   ]
  },
  {
   "cell_type": "code",
   "execution_count": 129,
   "metadata": {},
   "outputs": [
    {
     "data": {
      "text/plain": [
       "torch.Size([100, 1, 1, 2])"
      ]
     },
     "execution_count": 129,
     "metadata": {},
     "output_type": "execute_result"
    }
   ],
   "source": [
    "dat_dict['0']['x'].shape"
   ]
  },
  {
   "cell_type": "code",
   "execution_count": 116,
   "metadata": {},
   "outputs": [
    {
     "data": {
      "text/plain": [
       "torch.Size([100, 300, 1, 2])"
      ]
     },
     "execution_count": 116,
     "metadata": {},
     "output_type": "execute_result"
    }
   ],
   "source": [
    "batch_y.shape"
   ]
  },
  {
   "cell_type": "code",
   "execution_count": null,
   "metadata": {},
   "outputs": [],
   "source": []
  },
  {
   "cell_type": "code",
   "execution_count": null,
   "metadata": {},
   "outputs": [],
   "source": []
  },
  {
   "cell_type": "code",
   "execution_count": null,
   "metadata": {},
   "outputs": [],
   "source": []
  },
  {
   "cell_type": "code",
   "execution_count": 24,
   "metadata": {},
   "outputs": [],
   "source": [
    "plot_func = func\n",
    "with torch.no_grad():\n",
    "    pred_y = odeint(plot_func, true_y0[:, 0], t)\n"
   ]
  },
  {
   "cell_type": "code",
   "execution_count": 28,
   "metadata": {},
   "outputs": [
    {
     "data": {
      "image/png": "[encoded data removed]",
      "text/plain": [
       "<Figure size 288x288 with 1 Axes>"
      ]
     },
     "metadata": {},
     "output_type": "display_data"
    }
   ],
   "source": [
    "import matplotlib.pyplot as plt\n",
    "\n",
    "with torch.no_grad():\n",
    "    fig = plt.figure(figsize=(4, 4), facecolor='white')\n",
    "    ax_traj = fig.add_subplot(111, frameon=False)\n",
    "\n",
    "\n",
    "    ax_traj.cla()\n",
    "    ax_traj.set_title('Trajectories')\n",
    "    ax_traj.set_xlabel('t')\n",
    "    ax_traj.set_ylabel('x,y')\n",
    "    ax_traj.plot(t.numpy(), true_y.numpy()[:, :, 0], 'g-')\n",
    "    ax_traj.plot(t.numpy(), pred_y.numpy()[:, 0], 'b--')\n",
    "    ax_traj.set_xlim(t.min(), t.max())\n",
    "    ax_traj.set_ylim(-2.5, 2.5)\n"
   ]
  },
  {
   "cell_type": "code",
   "execution_count": 84,
   "metadata": {},
   "outputs": [],
   "source": [
    "# augmented\n",
    "\n",
    "ii = 0\n",
    "\n",
    "func = ode_models.ODEFunc(dim_y=2)\n",
    "optimizer = optim.Adam(func.parameters(), lr=1e-3)\n",
    "end = time.time()\n",
    "\n",
    "time_meter = RunningAverageMeter(0.97)\n",
    "loss_meter = RunningAverageMeter(0.97)\n"
   ]
  },
  {
   "cell_type": "code",
   "execution_count": 99,
   "metadata": {},
   "outputs": [
    {
     "name": "stdout",
     "output_type": "stream",
     "text": [
      "Iter 0020 | Total Loss 1.559551\n"
     ]
    }
   ],
   "source": [
    "\n",
    "# args.niters + 1\n",
    "for itr in range(1, 20+ 1):\n",
    "    optimizer.zero_grad()\n",
    "    batch_y0, batch_t, batch_y = get_batch()\n",
    "#     batch_y0[..., 1] = 0\n",
    "    \n",
    "#     print(batch_y0.shape)\n",
    "#     print(batch_y.shape)\n",
    "    \n",
    "    pred_y = odeint(func, batch_y0, batch_t)\n",
    "#     print(pred_y[..., 0].shape)\n",
    "#     print(batch_y[..., 0].shape)\n",
    "    loss = torch.mean(torch.abs(pred_y[..., 0] - batch_y[..., 0]))\n",
    "    \n",
    "#     loss = torch.mean(torch.abs(pred_y - batch_y))\n",
    "    loss.backward()\n",
    "    optimizer.step()\n",
    "\n",
    "    time_meter.update(time.time() - end)\n",
    "    loss_meter.update(loss.item())\n",
    "\n",
    "    if itr % args.test_freq == 0:\n",
    "        with torch.no_grad():\n",
    "            true_y0_aug = true_y0\n",
    "#             true_y0_aug[..., 1] = 0\n",
    "            pred_y = odeint(func, true_y0_aug, t)\n",
    "#             print(pred_y.shape)\n",
    "#             print(true_y.shape)\n",
    "            loss = torch.mean(torch.abs(pred_y[..., 0] - true_y[..., 0]))\n",
    "#             loss = torch.mean(torch.abs(pred_y - true_y))\n",
    "            print('Iter {:04d} | Total Loss {:.6f}'.format(itr, loss.item()))\n",
    "            visualize(true_y, pred_y, func, ii)\n",
    "            ii += 1\n",
    "\n",
    "    end = time.time()\n"
   ]
  },
  {
   "cell_type": "code",
   "execution_count": 100,
   "metadata": {},
   "outputs": [],
   "source": [
    "plot_func = func\n",
    "with torch.no_grad():\n",
    "    pred_y = odeint(plot_func, true_y0_aug, t)\n"
   ]
  },
  {
   "cell_type": "code",
   "execution_count": 101,
   "metadata": {
    "scrolled": true
   },
   "outputs": [
    {
     "data": {
      "image/png": "[encoded data removed]",
      "text/plain": [
       "<Figure size 288x288 with 1 Axes>"
      ]
     },
     "metadata": {},
     "output_type": "display_data"
    }
   ],
   "source": [
    "with torch.no_grad():\n",
    "    fig = plt.figure(figsize=(4, 4), facecolor='white')\n",
    "    ax_traj = fig.add_subplot(111, frameon=False)\n",
    "\n",
    "    ax_traj.cla()\n",
    "    ax_traj.set_title('Trajectories')\n",
    "    ax_traj.set_xlabel('t')\n",
    "    ax_traj.set_ylabel('x,y')\n",
    "    ax_traj.plot(t.numpy(), true_y.numpy()[:, :, 0], 'g-')\n",
    "    ax_traj.plot(t.numpy(), pred_y.numpy()[:, :, 0], 'b--')\n",
    "    ax_traj.set_xlim(t.min(), t.max())\n",
    "    ax_traj.set_ylim(-2.5, 2.5)"
   ]
  },
  {
   "cell_type": "code",
   "execution_count": null,
   "metadata": {},
   "outputs": [],
   "source": []
  },
  {
   "cell_type": "code",
   "execution_count": null,
   "metadata": {},
   "outputs": [],
   "source": []
  },
  {
   "cell_type": "code",
   "execution_count": null,
   "metadata": {},
   "outputs": [],
   "source": []
  },
  {
   "cell_type": "code",
   "execution_count": null,
   "metadata": {},
   "outputs": [],
   "source": []
  },
  {
   "cell_type": "code",
   "execution_count": null,
   "metadata": {},
   "outputs": [],
   "source": []
  },
  {
   "cell_type": "code",
   "execution_count": null,
   "metadata": {},
   "outputs": [],
   "source": []
  },
  {
   "cell_type": "code",
   "execution_count": null,
   "metadata": {},
   "outputs": [],
   "source": []
  },
  {
   "cell_type": "code",
   "execution_count": null,
   "metadata": {},
   "outputs": [],
   "source": []
  },
  {
   "cell_type": "code",
   "execution_count": null,
   "metadata": {},
   "outputs": [],
   "source": []
  },
  {
   "cell_type": "code",
   "execution_count": 31,
   "metadata": {},
   "outputs": [
    {
     "data": {
      "image/png": "[encoded data removed]",
      "text/plain": [
       "<Figure size 720x720 with 4 Axes>"
      ]
     },
     "metadata": {},
     "output_type": "display_data"
    }
   ],
   "source": [
    "with torch.no_grad():\n",
    "    grad_true = Lambda()(t, true_y.squeeze())\n",
    "    \n",
    "    grad_pred = func(t, true_y).squeeze()\n",
    "    \n",
    "    grad_slow = func_slow(t, true_y).squeeze()\n",
    "    grad_fast = func_fast(t, true_y).squeeze()\n",
    "    \n",
    "    fig = plt.figure(figsize=(10, 10), facecolor='white')\n",
    "    \n",
    "    fig1 = fig.add_subplot(221, frameon=False)\n",
    "    fig1.cla()\n",
    "    fig1.set_title('Derivative: Fast Variable (dx)')\n",
    "    fig1.set_xlabel('t')\n",
    "    fig1.set_ylabel('dx')\n",
    "    fig1.plot(t.numpy(), grad_true.numpy()[:, 0], label='True')\n",
    "    fig1.plot(t.numpy(), grad_pred.numpy()[:, 0], '--', label='Pred')\n",
    "    fig1.set_xlim(t.min(), t.max())\n",
    "    fig1.set_ylim(-50., 50.)\n",
    "    fig1.legend()\n",
    "    \n",
    "    fig2 = fig.add_subplot(222, frameon=False)\n",
    "    fig2.cla()\n",
    "    fig2.set_title('Breakdown of predicted dx')\n",
    "    fig2.set_xlabel('t')\n",
    "    fig2.set_ylabel('dx')\n",
    "    fig2.plot(t.numpy(), grad_pred.numpy()[:, 0], label='Pred')\n",
    "    fig2.plot(t.numpy(), grad_slow.numpy()[:, 0], label='Slow')\n",
    "    fig2.plot(t.numpy(), grad_fast.numpy()[:, 0], label='Fast')\n",
    "    fig2.set_xlim(t.min(), t.max())\n",
    "    fig2.set_ylim(-20., 20.)\n",
    "    fig2.legend()\n",
    "    \n",
    "    fig3 = fig.add_subplot(223, frameon=False)\n",
    "    fig3.cla()\n",
    "    fig3.set_title('Derivative: Slow Variable (dy)')\n",
    "    fig3.set_xlabel('t')\n",
    "    fig3.set_ylabel('dy')\n",
    "    fig3.plot(t.numpy(), grad_true.numpy()[:, 1], label='True')\n",
    "    fig3.plot(t.numpy(), grad_pred.numpy()[:, 1], '--', label='Pred')\n",
    "    fig3.set_xlim(t.min(), t.max())\n",
    "    fig3.set_ylim(-5., 5.)\n",
    "    fig3.legend()\n",
    "    \n",
    "    fig4 = fig.add_subplot(224, frameon=False)\n",
    "    fig4.cla()\n",
    "    fig4.set_title('Breakdown of predicted dy')\n",
    "    fig4.set_xlabel('t')\n",
    "    fig4.set_ylabel('dy')\n",
    "    fig4.plot(t.numpy(), grad_pred.numpy()[:, 1], label='Pred')\n",
    "    fig4.plot(t.numpy(), grad_slow.numpy()[:, 1], label='Slow')\n",
    "    fig4.plot(t.numpy(), grad_fast.numpy()[:, 1], label='Fast')\n",
    "    fig4.set_xlim(t.min(), t.max())\n",
    "    fig4.set_ylim(-5., 5.)\n",
    "    fig4.legend()"
   ]
  },
  {
   "cell_type": "code",
   "execution_count": 73,
   "metadata": {},
   "outputs": [
    {
     "data": {
      "text/plain": [
       "torch.Size([1000, 2])"
      ]
     },
     "execution_count": 73,
     "metadata": {},
     "output_type": "execute_result"
    }
   ],
   "source": [
    "grad_pred.squeeze().shape"
   ]
  },
  {
   "cell_type": "code",
   "execution_count": null,
   "metadata": {},
   "outputs": [],
   "source": []
  }
 ],
 "metadata": {
  "kernelspec": {
   "display_name": "Python 3",
   "language": "python",
   "name": "python3"
  },
  "language_info": {
   "codemirror_mode": {
    "name": "ipython",
    "version": 3
   },
   "file_extension": ".py",
   "mimetype": "text/x-python",
   "name": "python",
   "nbconvert_exporter": "python",
   "pygments_lexer": "ipython3",
   "version": "3.7.4"
  }
 },
 "nbformat": 4,
 "nbformat_minor": 2
}
